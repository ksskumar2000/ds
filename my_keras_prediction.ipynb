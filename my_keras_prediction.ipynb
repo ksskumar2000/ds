{
 "cells": [
  {
   "cell_type": "code",
   "execution_count": 1,
   "metadata": {},
   "outputs": [],
   "source": [
    "import pandas as pd\n",
    "import numpy as np\n",
    "\n",
    "import matplotlib\n",
    "%matplotlib inline\n",
    "\n",
    "import warnings\n",
    "warnings.filterwarnings('ignore')"
   ]
  },
  {
   "cell_type": "code",
   "execution_count": 2,
   "metadata": {},
   "outputs": [
    {
     "name": "stderr",
     "output_type": "stream",
     "text": [
      "Using TensorFlow backend.\n"
     ]
    }
   ],
   "source": [
    "    # Create your first MLP in Keras\n",
    "from keras.models import Sequential\n",
    "from keras.layers import Dense, Dropout\n",
    "from keras.losses import categorical_crossentropy"
   ]
  },
  {
   "cell_type": "code",
   "execution_count": 3,
   "metadata": {},
   "outputs": [],
   "source": [
    "import numpy"
   ]
  },
  {
   "cell_type": "code",
   "execution_count": 4,
   "metadata": {},
   "outputs": [],
   "source": [
    "train = pd.read_csv(\"amex_train_ready_for_model.csv\")\n",
    "test = pd.read_csv(\"amex_test_ready_for_model.csv\")\n",
    "otest = pd.read_csv('test.csv')"
   ]
  },
  {
   "cell_type": "code",
   "execution_count": 5,
   "metadata": {},
   "outputs": [],
   "source": [
    "target = 'is_click'\n",
    "predictors = [x for x in train.columns if x not in [target]]\n",
    "\n",
    "X_train = train[predictors]\n",
    "X_train.loc[X_train.pc_view_count.isna(),'pc_view_count']=0\n",
    "X_train.loc[X_train.pc_interest_count.isna(),'pc_interest_count']=0\n",
    "y_train = pd.DataFrame(train.is_click)\n",
    "\n",
    "X_test = test[predictors]\n",
    "X_test.loc[X_test.pc_view_count.isna(),'pc_view_count']=0\n",
    "X_test.loc[X_test.pc_interest_count.isna(),'pc_interest_count']=0"
   ]
  },
  {
   "cell_type": "code",
   "execution_count": 6,
   "metadata": {},
   "outputs": [
    {
     "data": {
      "text/plain": [
       "(463291, 81)"
      ]
     },
     "execution_count": 6,
     "metadata": {},
     "output_type": "execute_result"
    }
   ],
   "source": [
    "X_train.shape"
   ]
  },
  {
   "cell_type": "code",
   "execution_count": 18,
   "metadata": {},
   "outputs": [],
   "source": [
    "# create model\n",
    "model = Sequential()\n",
    "\n",
    "model.add(Dense(200, input_dim=81, activation='relu'))\n",
    "model.add(Dropout(0.3))\n",
    "\n",
    "model.add(Dense(108, activation='relu'))\n",
    "model.add(Dropout(0.5))\n",
    "\n",
    "model.add(Dense(150, activation='relu'))\n",
    "model.add(Dropout(0.5))\n",
    "\n",
    "model.add(Dense(1, activation='sigmoid'))\n",
    "#model.add(Dense(2,activation='softmax'))"
   ]
  },
  {
   "cell_type": "code",
   "execution_count": 19,
   "metadata": {},
   "outputs": [],
   "source": [
    "# Compile model\n",
    "model.compile(loss='mse', optimizer='adam', metrics=['accuracy'])"
   ]
  },
  {
   "cell_type": "code",
   "execution_count": 20,
   "metadata": {},
   "outputs": [],
   "source": [
    "from keras.callbacks import TensorBoard\n",
    "tensorboard = TensorBoard(log_dir='tensor_simple', histogram_freq=0, write_graph=True, write_images=True)"
   ]
  },
  {
   "cell_type": "code",
   "execution_count": 21,
   "metadata": {
    "scrolled": true
   },
   "outputs": [
    {
     "name": "stdout",
     "output_type": "stream",
     "text": [
      "Epoch 1/100\n",
      "463291/463291 [==============================] - 14s 29us/step - loss: 0.1333 - acc: 0.8385\n",
      "Epoch 2/100\n",
      "463291/463291 [==============================] - 12s 26us/step - loss: 0.0668 - acc: 0.9324\n",
      "Epoch 3/100\n",
      "463291/463291 [==============================] - 11s 24us/step - loss: 0.0672 - acc: 0.9324\n",
      "Epoch 4/100\n",
      "463291/463291 [==============================] - 12s 25us/step - loss: 0.0672 - acc: 0.9324\n",
      "Epoch 5/100\n",
      "463291/463291 [==============================] - 11s 24us/step - loss: 0.0670 - acc: 0.9324\n",
      "Epoch 6/100\n",
      "463291/463291 [==============================] - 11s 24us/step - loss: 0.0667 - acc: 0.9324\n",
      "Epoch 7/100\n",
      "463291/463291 [==============================] - 12s 25us/step - loss: 0.0665 - acc: 0.9324\n",
      "Epoch 8/100\n",
      "463291/463291 [==============================] - 13s 28us/step - loss: 0.0664 - acc: 0.9324\n",
      "Epoch 9/100\n",
      "463291/463291 [==============================] - 16s 35us/step - loss: 0.0663 - acc: 0.9324\n",
      "Epoch 10/100\n",
      "463291/463291 [==============================] - 13s 27us/step - loss: 0.0662 - acc: 0.9324\n",
      "Epoch 11/100\n",
      "463291/463291 [==============================] - 13s 28us/step - loss: 0.0662 - acc: 0.9324\n",
      "Epoch 12/100\n",
      "463291/463291 [==============================] - 12s 26us/step - loss: 0.0661 - acc: 0.9324\n",
      "Epoch 13/100\n",
      "463291/463291 [==============================] - 12s 25us/step - loss: 0.0661 - acc: 0.9324\n",
      "Epoch 14/100\n",
      "463291/463291 [==============================] - 11s 25us/step - loss: 0.0660 - acc: 0.9324\n",
      "Epoch 15/100\n",
      "463291/463291 [==============================] - 13s 27us/step - loss: 0.0659 - acc: 0.9324\n",
      "Epoch 16/100\n",
      "463291/463291 [==============================] - 12s 26us/step - loss: 0.0659 - acc: 0.9324\n",
      "Epoch 17/100\n",
      "463291/463291 [==============================] - 12s 25us/step - loss: 0.0658 - acc: 0.9324\n",
      "Epoch 18/100\n",
      "463291/463291 [==============================] - 11s 24us/step - loss: 0.0657 - acc: 0.9324\n",
      "Epoch 19/100\n",
      "463291/463291 [==============================] - 13s 27us/step - loss: 0.0657 - acc: 0.9324\n",
      "Epoch 20/100\n",
      "463291/463291 [==============================] - 15s 33us/step - loss: 0.0657 - acc: 0.9324\n",
      "Epoch 21/100\n",
      "463291/463291 [==============================] - 13s 28us/step - loss: 0.0656 - acc: 0.9324\n",
      "Epoch 22/100\n",
      "463291/463291 [==============================] - 11s 24us/step - loss: 0.0655 - acc: 0.9324\n",
      "Epoch 23/100\n",
      "463291/463291 [==============================] - 13s 28us/step - loss: 0.0654 - acc: 0.9324\n",
      "Epoch 24/100\n",
      "463291/463291 [==============================] - 15s 31us/step - loss: 0.0654 - acc: 0.9324\n",
      "Epoch 25/100\n",
      "463291/463291 [==============================] - 15s 33us/step - loss: 0.0653 - acc: 0.9324\n",
      "Epoch 26/100\n",
      "463291/463291 [==============================] - 13s 28us/step - loss: 0.0652 - acc: 0.9324\n",
      "Epoch 27/100\n",
      "463291/463291 [==============================] - 12s 27us/step - loss: 0.0651 - acc: 0.9324\n",
      "Epoch 28/100\n",
      "463291/463291 [==============================] - 11s 24us/step - loss: 0.0650 - acc: 0.9324\n",
      "Epoch 29/100\n",
      "463291/463291 [==============================] - 12s 25us/step - loss: 0.0650 - acc: 0.9324\n",
      "Epoch 30/100\n",
      "463291/463291 [==============================] - 12s 25us/step - loss: 0.0649 - acc: 0.9324\n",
      "Epoch 31/100\n",
      "463291/463291 [==============================] - 11s 25us/step - loss: 0.0649 - acc: 0.9324\n",
      "Epoch 32/100\n",
      "463291/463291 [==============================] - 13s 27us/step - loss: 0.0648 - acc: 0.9324\n",
      "Epoch 33/100\n",
      "463291/463291 [==============================] - 17s 36us/step - loss: 0.0647 - acc: 0.9324\n",
      "Epoch 34/100\n",
      "463291/463291 [==============================] - 15s 31us/step - loss: 0.0647 - acc: 0.9324\n",
      "Epoch 35/100\n",
      "463291/463291 [==============================] - 14s 30us/step - loss: 0.0646 - acc: 0.9324\n",
      "Epoch 36/100\n",
      "463291/463291 [==============================] - 13s 29us/step - loss: 0.0645 - acc: 0.9324\n",
      "Epoch 37/100\n",
      "463291/463291 [==============================] - 11s 24us/step - loss: 0.0645 - acc: 0.9324\n",
      "Epoch 38/100\n",
      "463291/463291 [==============================] - 10s 22us/step - loss: 0.0645 - acc: 0.9324\n",
      "Epoch 39/100\n",
      "463291/463291 [==============================] - 11s 24us/step - loss: 0.0644 - acc: 0.9324\n",
      "Epoch 40/100\n",
      "463291/463291 [==============================] - 11s 23us/step - loss: 0.0644 - acc: 0.9324\n",
      "Epoch 41/100\n",
      "463291/463291 [==============================] - 13s 27us/step - loss: 0.0643 - acc: 0.9324\n",
      "Epoch 42/100\n",
      "463291/463291 [==============================] - 13s 27us/step - loss: 0.0643 - acc: 0.9324\n",
      "Epoch 43/100\n",
      "463291/463291 [==============================] - 11s 24us/step - loss: 0.0643 - acc: 0.9324\n",
      "Epoch 44/100\n",
      "463291/463291 [==============================] - 13s 29us/step - loss: 0.0642 - acc: 0.9324\n",
      "Epoch 45/100\n",
      "463291/463291 [==============================] - 13s 27us/step - loss: 0.0642 - acc: 0.9324\n",
      "Epoch 46/100\n",
      "463291/463291 [==============================] - 12s 26us/step - loss: 0.0642 - acc: 0.9324\n",
      "Epoch 47/100\n",
      "463291/463291 [==============================] - 14s 31us/step - loss: 0.0641 - acc: 0.9324\n",
      "Epoch 48/100\n",
      "463291/463291 [==============================] - 11s 24us/step - loss: 0.0642 - acc: 0.9324\n",
      "Epoch 49/100\n",
      "463291/463291 [==============================] - 13s 27us/step - loss: 0.0641 - acc: 0.9324\n",
      "Epoch 50/100\n",
      "463291/463291 [==============================] - 13s 28us/step - loss: 0.0641 - acc: 0.9324\n",
      "Epoch 51/100\n",
      "463291/463291 [==============================] - 14s 29us/step - loss: 0.0641 - acc: 0.9324\n",
      "Epoch 52/100\n",
      "463291/463291 [==============================] - 12s 26us/step - loss: 0.0640 - acc: 0.9324\n",
      "Epoch 53/100\n",
      "463291/463291 [==============================] - 12s 25us/step - loss: 0.0640 - acc: 0.9324\n",
      "Epoch 54/100\n",
      "463291/463291 [==============================] - 12s 25us/step - loss: 0.0640 - acc: 0.9324\n",
      "Epoch 55/100\n",
      "463291/463291 [==============================] - 11s 24us/step - loss: 0.0639 - acc: 0.9324\n",
      "Epoch 56/100\n",
      "463291/463291 [==============================] - 12s 26us/step - loss: 0.0639 - acc: 0.9324\n",
      "Epoch 57/100\n",
      "463291/463291 [==============================] - 13s 29us/step - loss: 0.0639 - acc: 0.9324\n",
      "Epoch 58/100\n",
      "463291/463291 [==============================] - 11s 23us/step - loss: 0.0640 - acc: 0.9324\n",
      "Epoch 59/100\n",
      "463291/463291 [==============================] - 11s 24us/step - loss: 0.0639 - acc: 0.9324\n",
      "Epoch 60/100\n",
      "463291/463291 [==============================] - 11s 24us/step - loss: 0.0639 - acc: 0.9324\n",
      "Epoch 61/100\n",
      "463291/463291 [==============================] - 11s 24us/step - loss: 0.0639 - acc: 0.9324\n",
      "Epoch 62/100\n",
      "463291/463291 [==============================] - 11s 24us/step - loss: 0.0638 - acc: 0.9324\n",
      "Epoch 63/100\n",
      "463291/463291 [==============================] - 11s 24us/step - loss: 0.0639 - acc: 0.9324\n",
      "Epoch 64/100\n",
      "463291/463291 [==============================] - 12s 25us/step - loss: 0.0639 - acc: 0.9324\n",
      "Epoch 65/100\n",
      "463291/463291 [==============================] - 12s 27us/step - loss: 0.0638 - acc: 0.9324\n",
      "Epoch 66/100\n",
      "463291/463291 [==============================] - 11s 25us/step - loss: 0.0637 - acc: 0.9324\n",
      "Epoch 67/100\n",
      "463291/463291 [==============================] - 12s 25us/step - loss: 0.0637 - acc: 0.9324\n",
      "Epoch 68/100\n",
      "463291/463291 [==============================] - 11s 24us/step - loss: 0.0638 - acc: 0.9324\n",
      "Epoch 69/100\n",
      "463291/463291 [==============================] - 12s 25us/step - loss: 0.0638 - acc: 0.9324\n",
      "Epoch 70/100\n",
      "463291/463291 [==============================] - 12s 25us/step - loss: 0.0637 - acc: 0.9324\n",
      "Epoch 71/100\n",
      "463291/463291 [==============================] - 12s 25us/step - loss: 0.0637 - acc: 0.9324\n",
      "Epoch 72/100\n",
      "463291/463291 [==============================] - 14s 30us/step - loss: 0.0637 - acc: 0.9324\n",
      "Epoch 73/100\n",
      "463291/463291 [==============================] - 13s 29us/step - loss: 0.0637 - acc: 0.9324\n",
      "Epoch 74/100\n",
      "463291/463291 [==============================] - 13s 27us/step - loss: 0.0637 - acc: 0.9324\n",
      "Epoch 75/100\n",
      "463291/463291 [==============================] - 15s 32us/step - loss: 0.0637 - acc: 0.9324\n",
      "Epoch 76/100\n",
      "463291/463291 [==============================] - 11s 25us/step - loss: 0.0637 - acc: 0.9324\n",
      "Epoch 77/100\n",
      "463291/463291 [==============================] - 11s 24us/step - loss: 0.0637 - acc: 0.9324\n",
      "Epoch 78/100\n",
      "463291/463291 [==============================] - 13s 27us/step - loss: 0.0637 - acc: 0.9324\n",
      "Epoch 79/100\n"
     ]
    },
    {
     "name": "stdout",
     "output_type": "stream",
     "text": [
      "463291/463291 [==============================] - 13s 29us/step - loss: 0.0637 - acc: 0.9324\n",
      "Epoch 80/100\n",
      "463291/463291 [==============================] - 12s 26us/step - loss: 0.0636 - acc: 0.9324\n",
      "Epoch 81/100\n",
      "463291/463291 [==============================] - 12s 25us/step - loss: 0.0637 - acc: 0.9324\n",
      "Epoch 82/100\n",
      "463291/463291 [==============================] - 11s 25us/step - loss: 0.0636 - acc: 0.9324\n",
      "Epoch 83/100\n",
      "463291/463291 [==============================] - 14s 30us/step - loss: 0.0636 - acc: 0.9324\n",
      "Epoch 84/100\n",
      "463291/463291 [==============================] - 15s 32us/step - loss: 0.0636 - acc: 0.9324\n",
      "Epoch 85/100\n",
      "463291/463291 [==============================] - 13s 27us/step - loss: 0.0636 - acc: 0.9324\n",
      "Epoch 86/100\n",
      "463291/463291 [==============================] - 11s 24us/step - loss: 0.0636 - acc: 0.9324\n",
      "Epoch 87/100\n",
      "463291/463291 [==============================] - 12s 27us/step - loss: 0.0635 - acc: 0.9324\n",
      "Epoch 88/100\n",
      "463291/463291 [==============================] - 12s 27us/step - loss: 0.0636 - acc: 0.9324\n",
      "Epoch 89/100\n",
      "463291/463291 [==============================] - 17s 37us/step - loss: 0.0636 - acc: 0.9324\n",
      "Epoch 90/100\n",
      "463291/463291 [==============================] - 12s 25us/step - loss: 0.0635 - acc: 0.9324\n",
      "Epoch 91/100\n",
      "463291/463291 [==============================] - 11s 25us/step - loss: 0.0635 - acc: 0.9324\n",
      "Epoch 92/100\n",
      "463291/463291 [==============================] - 13s 28us/step - loss: 0.0635 - acc: 0.9324\n",
      "Epoch 93/100\n",
      "463291/463291 [==============================] - 12s 27us/step - loss: 0.0635 - acc: 0.9324\n",
      "Epoch 94/100\n",
      "463291/463291 [==============================] - 13s 29us/step - loss: 0.0635 - acc: 0.9324\n",
      "Epoch 95/100\n",
      "463291/463291 [==============================] - 16s 34us/step - loss: 0.0635 - acc: 0.9324\n",
      "Epoch 96/100\n",
      "463291/463291 [==============================] - 15s 33us/step - loss: 0.0635 - acc: 0.9324\n",
      "Epoch 97/100\n",
      "463291/463291 [==============================] - 14s 31us/step - loss: 0.0635 - acc: 0.9324\n",
      "Epoch 98/100\n",
      "463291/463291 [==============================] - 15s 33us/step - loss: 0.0635 - acc: 0.9324\n",
      "Epoch 99/100\n",
      "463291/463291 [==============================] - 12s 26us/step - loss: 0.0635 - acc: 0.9324\n",
      "Epoch 100/100\n",
      "463291/463291 [==============================] - 12s 27us/step - loss: 0.0634 - acc: 0.9324\n"
     ]
    },
    {
     "data": {
      "text/plain": [
       "<keras.callbacks.History at 0x176a220f6d8>"
      ]
     },
     "execution_count": 21,
     "metadata": {},
     "output_type": "execute_result"
    }
   ],
   "source": [
    "# Fit the model\n",
    "model.fit(X_train, y_train, epochs=100, batch_size=30000,shuffle=True,callbacks=[tensorboard])"
   ]
  },
  {
   "cell_type": "code",
   "execution_count": 22,
   "metadata": {},
   "outputs": [],
   "source": [
    "y_pred = model.predict(X_test)"
   ]
  },
  {
   "cell_type": "code",
   "execution_count": 23,
   "metadata": {},
   "outputs": [],
   "source": [
    "result = pd.DataFrame(columns=[\"session_id\",\"is_click\"])\n",
    "result[\"session_id\"] = otest.session_id\n",
    "result[\"is_click\"] = y_pred\n",
    "result.to_csv(\"take55_tf.csv\",index=False)"
   ]
  },
  {
   "cell_type": "code",
   "execution_count": null,
   "metadata": {},
   "outputs": [],
   "source": []
  },
  {
   "cell_type": "code",
   "execution_count": null,
   "metadata": {},
   "outputs": [],
   "source": []
  },
  {
   "cell_type": "code",
   "execution_count": null,
   "metadata": {},
   "outputs": [],
   "source": []
  }
 ],
 "metadata": {
  "kernelspec": {
   "display_name": "Python 3",
   "language": "python",
   "name": "python3"
  },
  "language_info": {
   "codemirror_mode": {
    "name": "ipython",
    "version": 3
   },
   "file_extension": ".py",
   "mimetype": "text/x-python",
   "name": "python",
   "nbconvert_exporter": "python",
   "pygments_lexer": "ipython3",
   "version": "3.6.6"
  }
 },
 "nbformat": 4,
 "nbformat_minor": 2
}
